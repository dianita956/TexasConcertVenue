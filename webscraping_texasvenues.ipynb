{
 "cells": [
  {
   "cell_type": "code",
   "execution_count": 2,
   "metadata": {},
   "outputs": [],
   "source": [
    "import requests\n",
    "import pandas as pd\n",
    "import json \n",
    "from bs4 import BeautifulSoup "
   ]
  },
  {
   "cell_type": "code",
   "execution_count": 2,
   "metadata": {},
   "outputs": [
    {
     "name": "stdout",
     "output_type": "stream",
     "text": [
      "Data from all pages saved to D:/MusicPY/TexasMusicVenue.json\n"
     ]
    }
   ],
   "source": [
    "base_url = \"https://gov.texas.gov/apps/music/directory/results/venues/p\"\n",
    "file = \"D:/MusicPY/TexasMusicVenue.json\"\n",
    "\n",
    "# Create a BeautifulSoup object to parse the HTML content\n",
    "# Iterate through pages 1 to 66 webpages\n",
    "venue_data = []\n",
    "for page_number in range(1, 67):\n",
    "    url = base_url + str(page_number)\n",
    "    response = requests.get(url)\n",
    "    soup = BeautifulSoup(response.text, \"html.parser\")\n",
    "\n",
    "    # Find the relevant elements containing the venue information\n",
    "    venue_list = soup.find_all(\"div\")\n",
    "    \n",
    "    # Extract the desired data from each venue element\n",
    "    for venue in venue_list:\n",
    "        name_element = venue.find(\"h2\")\n",
    "        if name_element is not None:\n",
    "            name = name_element.text.strip()\n",
    "            # Process the name further or store it as needed\n",
    "            address = venue.find(\"li\").text.strip()\n",
    "            \n",
    "            # Create a dictionary to store venue data\n",
    "            venue_info = {\n",
    "                \"Venue\": name,\n",
    "                \"Address\": address\n",
    "            }\n",
    "            \n",
    "            # Append the venue data to the list\n",
    "            venue_data.append(venue_info)\n",
    "\n",
    "# Write the data to the JSON file\n",
    "with open(file, \"w\", encoding=\"utf-8\") as f:\n",
    "    json.dump(venue_data, f, indent=4)\n",
    "\n",
    "print(\"Data from all pages saved to\", file)"
   ]
  },
  {
   "cell_type": "code",
   "execution_count": 7,
   "metadata": {},
   "outputs": [
    {
     "name": "stdout",
     "output_type": "stream",
     "text": [
      "Data from San Antonio venues saved to D:/MusicPY/TexasMusicVenue_SanAntonio.json\n"
     ]
    }
   ],
   "source": [
    "\n",
    "base_url = \"https://gov.texas.gov/apps/music/directory/results/venues/p\"\n",
    "file = \"D:/MusicPY/TexasMusicVenue_SanAntonio.json\"\n",
    "\n",
    "# Create a BeautifulSoup object to parse the HTML content\n",
    "# Iterate through pages 1 to 66 webpages\n",
    "venue_data = []\n",
    "for page_number in range(1, 67):\n",
    "    url = base_url + str(page_number)\n",
    "    response = requests.get(url)\n",
    "    soup = BeautifulSoup(response.text, \"html.parser\")\n",
    "\n",
    "    # Find the relevant elements containing the venue information\n",
    "    venue_list = soup.find_all(\"div\")\n",
    "    \n",
    "    # Extract the desired data from each venue element\n",
    "    for venue in venue_list:\n",
    "        name_element = venue.find(\"h2\")\n",
    "        if name_element is not None:\n",
    "            name = name_element.text.strip()\n",
    "            # Process the name further or store it as needed\n",
    "            address = venue.find(\"li\").text.strip()\n",
    "            \n",
    "             # Check if the address includes \"San Antonio\" as a standalone city\n",
    "            if \"San Antonio\" in address.split(\", \"):\n",
    "                # Create a dictionary to store venue data\n",
    "                venue_info = {\n",
    "                    \"Year\" : None,\n",
    "                    \"Address\": address,\n",
    "                    \"Venue\":name\n",
    "                }\n",
    "                \n",
    "                # Append the venue data to the list\n",
    "                venue_data.append(venue_info)\n",
    "\n",
    "# Write the data to the JSON file\n",
    "with open(file, \"w\", encoding=\"utf-8\") as f:\n",
    "    json.dump(venue_data, f, indent=4)\n",
    "\n",
    "print(\"Data from San Antonio venues saved to\", file)\n"
   ]
  }
 ],
 "metadata": {
  "kernelspec": {
   "display_name": "base",
   "language": "python",
   "name": "python3"
  },
  "language_info": {
   "codemirror_mode": {
    "name": "ipython",
    "version": 3
   },
   "file_extension": ".py",
   "mimetype": "text/x-python",
   "name": "python",
   "nbconvert_exporter": "python",
   "pygments_lexer": "ipython3",
   "version": "3.9.16"
  },
  "orig_nbformat": 4
 },
 "nbformat": 4,
 "nbformat_minor": 2
}
