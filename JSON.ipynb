{
 "cells": [
  {
   "cell_type": "code",
   "execution_count": 42,
   "metadata": {},
   "outputs": [],
   "source": [
    "import jsonschema\n",
    "import json\n",
    "import jsondiff\n",
    "\n",
    "from jsonschema import validate\n",
    "from jsondiff import diff\n",
    "\n"
   ]
  },
  {
   "cell_type": "code",
   "execution_count": 37,
   "metadata": {},
   "outputs": [
    {
     "name": "stdout",
     "output_type": "stream",
     "text": [
      "File 1 is valid.\n",
      "File 2 is valid.\n"
     ]
    }
   ],
   "source": [
    "# Define schema for TexasMusicVenue_SanAntonio\n",
    "schema1 = {\n",
    "    \"type\":\"array\",\n",
    "    \"items\":{\n",
    "    \"type\": \"object\",\n",
    "    \"properties\": {\n",
    "        \"Year\":{\"type\":\"null\"},\n",
    "        \"Address\": {\"type\": \"string\"},\n",
    "        \"Venue\": {\"type\": \"string\"}\n",
    "    },\n",
    "    \"required\": [\"Year\",\"Venue\", \"Address\"]\n",
    "    }\n",
    "}\n",
    "\n",
    "# Define schema for og_data\n",
    "schema2 = {\n",
    "    \"type\":\"array\",\n",
    "    \"items\":{\n",
    "    \"type\": \"object\",\n",
    "    \"properties\": {\n",
    "        \"Address\": {\"type\": \"null\"},\n",
    "        \"Venue\": {\"type\": [\"string\", \"null\"]},\n",
    "        \"Year\": {\"type\": \"integer\"}\n",
    "    },\n",
    "    \"required\": [\"Year\", \"Address\", \"Venue\"]\n",
    "    }\n",
    "}\n",
    "\n",
    "# Load and parse file1.json\n",
    "with open('TexasMusicVenue_SanAntonio.json') as json_file:\n",
    "    json_data1 = json.load(json_file)\n",
    "\n",
    "# Load and parse file2.json\n",
    "with open('og_data.json') as json_file:\n",
    "    json_data2 = json.load(json_file)\n",
    "\n",
    "# Validate file1.json against schema1\n",
    "try:\n",
    "    validate(json_data1, schema1)\n",
    "    print(\"File 1 is valid.\")\n",
    "except jsonschema.ValidationError as e:\n",
    "    print(\"File 1 is invalid. Error: \", e)\n",
    "\n",
    "# Validate file2.json against schema2\n",
    "try:\n",
    "    validate(json_data2, schema2)\n",
    "    print(\"File 2 is valid.\")\n",
    "except jsonschema.ValidationError as e:\n",
    "    print(\"File 2 is invalid. Error: \", e)\n"
   ]
  },
  {
   "cell_type": "code",
   "execution_count": 38,
   "metadata": {},
   "outputs": [
    {
     "name": "stdout",
     "output_type": "stream",
     "text": [
      "The JSON files are different.\n"
     ]
    }
   ],
   "source": [
    "def compare_json_files(file1, file2):\n",
    "    with open(file1, 'r') as f1, open(file2, 'r') as f2:\n",
    "        json_data1 = json.load(f1)\n",
    "        json_data2 = json.load(f2)\n",
    "\n",
    "    return json_data1 == json_data2\n",
    "\n",
    "# Example usage\n",
    "file1 = 'TexasMusicVenue_SanAntonio.json'\n",
    "file2 = 'og_data.json'\n",
    "\n",
    "are_equal = compare_json_files(file1, file2)\n",
    "if are_equal:\n",
    "    print(\"The JSON files are identical.\")\n",
    "else:\n",
    "    print(\"The JSON files are different.\")\n"
   ]
  }
 ],
 "metadata": {
  "kernelspec": {
   "display_name": "base",
   "language": "python",
   "name": "python3"
  },
  "language_info": {
   "codemirror_mode": {
    "name": "ipython",
    "version": 3
   },
   "file_extension": ".py",
   "mimetype": "text/x-python",
   "name": "python",
   "nbconvert_exporter": "python",
   "pygments_lexer": "ipython3",
   "version": "3.9.16"
  },
  "orig_nbformat": 4
 },
 "nbformat": 4,
 "nbformat_minor": 2
}
